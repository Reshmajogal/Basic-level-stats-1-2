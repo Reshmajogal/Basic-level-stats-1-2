{
 "cells": [
  {
   "cell_type": "code",
   "execution_count": 1,
   "id": "7741e52e",
   "metadata": {},
   "outputs": [],
   "source": [
    "import pandas as pd \n",
    "import numpy as np\n",
    "import matplotlib.pyplot as plt\n",
    "import seaborn as sns\n",
    "from scipy import stats"
   ]
  },
  {
   "cell_type": "markdown",
   "id": "e38dc4ff",
   "metadata": {},
   "source": [
    "## Q.1) 1.Examine the following normal Quantile plots carefully. Which of these plots indicates that the data …"
   ]
  },
  {
   "cell_type": "markdown",
   "id": "31867883",
   "metadata": {},
   "source": [
    "## Ans:\n",
    "#### i) C\n",
    "#### ii) B\n",
    "#### iii) A,C,D\n",
    "#### iv) A"
   ]
  },
  {
   "cell_type": "markdown",
   "id": "28dd08fb",
   "metadata": {},
   "source": [
    "## Q.2) For each of the following statements, indicate whether it is True/False. If false, explain why.\n",
    "\n",
    "### The manager of a warehouse monitors the volume of shipments made by the delivery team. \n",
    "### The automated tracking system tracks every package as it moves through the facility. \n",
    "### A sample of 25 packages is selected and weighed every day. Based on current contracts with customers, \n",
    "### the weights should have μ = 22 lbs. and σ = 5 lbs.\n",
    "\n",
    "### Before using a normal model for the sampling distribution of the average package weights, \n",
    "### the manager must confirm that weights of individual packages are normally distributed.\n",
    "\n",
    "### The standard error of the daily average SE(x ̅) = 1.\n",
    "\n"
   ]
  },
  {
   "cell_type": "markdown",
   "id": "e38206f2",
   "metadata": {},
   "source": [
    "## Ans:\n",
    "#### i) True : The individual value do not need to be normally distributed as long as sample size condition satisfied.\n",
    "#### By CLT condition n>=30. In this case samlpe size is not satisfing CLT condition,hence individual checking is required.\n",
    "\n",
    "#### ii) True: S.E=sigma/sqrt(n)=5/sqrt(25)=5/5=1"
   ]
  },
  {
   "cell_type": "markdown",
   "id": "cea49d39",
   "metadata": {},
   "source": [
    "## Q.3) Auditors at a small community bank randomly sample 100 withdrawal transactions made during the week at an ATM machine located near the bank’s main branch. Over the past 2 years, the average withdrawal amount has been 50 with a standard deviation of 40. Since audit investigations are typically expensive, the auditors decide to notinitiate further investigations if the mean transaction amount of the sample is between 45 and 55. What is the probability that in any given week, there will be an investigation?\n",
    "\n",
    "### A.\t1.25%\n",
    "### B.\t2.5%\n",
    "### C.\t10.55%\n",
    "### D.\t21.1%\n",
    "### E.\t50%\n",
    "\n"
   ]
  },
  {
   "cell_type": "markdown",
   "id": "a30327b7",
   "metadata": {},
   "source": [
    "## Ans:\n",
    "#### Z=X-mu/(sigma/sqrt(n))\n",
    "#### Z(45)=(45-50)?(40/sqrt(100))\n",
    "#### z(45)=-1.25  similarlly\n",
    "#### Z(55)=1.25\n"
   ]
  },
  {
   "cell_type": "code",
   "execution_count": 3,
   "id": "40f3785e",
   "metadata": {},
   "outputs": [
    {
     "data": {
      "text/plain": [
       "0.7887004526662893"
      ]
     },
     "execution_count": 3,
     "metadata": {},
     "output_type": "execute_result"
    }
   ],
   "source": [
    "stats.norm.cdf(1.25)-stats.norm.cdf(-1.25)"
   ]
  },
  {
   "cell_type": "markdown",
   "id": "e1dbf624",
   "metadata": {},
   "source": [
    "#### Probability for do not investigate is 0.7887004526662893\n",
    "#### Probability for investigation = 1-0.7887004526662893 = 0.2113\n",
    "#### i.e 21.13% , hence Ans is D"
   ]
  },
  {
   "cell_type": "markdown",
   "id": "9d8286c2",
   "metadata": {},
   "source": [
    "## Q.4) The auditors from the above example would like to maintain the probability of investigation to 5%.\n",
    "## Which of the following represents the minimum number transactions that they should sample if they do not want to \n",
    "## change the thresholds of 45 and 55? Assume that the sample statistics remain unchanged.\n",
    "\n",
    "### A.\t144\n",
    "### B.\t150\n",
    "### C.\t196\n",
    "### D.\t250\n",
    "### E.\tNot enough information\n",
    "\n"
   ]
  },
  {
   "cell_type": "markdown",
   "id": "4c41a302",
   "metadata": {},
   "source": [
    "## Ans:\n",
    "#### Z stats for 95% confidence interval is 1.96\n",
    "#### Z=X-mu/(sigma/sqrt(n))\n",
    "#### Z=(55-50)(sqrt(n))/40\n",
    "#### sqrt(n)=1.96(40)/5 = 15.68\n",
    "#### n=(15.68)^2\n",
    "#### n=245.86 ~ 246\n",
    "#### Ans is D."
   ]
  },
  {
   "cell_type": "markdown",
   "id": "2eac37d8",
   "metadata": {},
   "source": [
    "## Q.5) An educational startup that helps MBA aspirants write their essays is targeting individuals who have taken GMAT in 2012 and have expressed interest in applying to FT top 20 b-schools. There are 40000 such individuals with an average GMAT score of 720 and a standard deviation of 120. The scores are distributed between 650 and 790 with a very long and thin tail towards the higher end resulting in substantial skewness. Which of the following is likely to be true for randomly  chosen samples of aspirants?\n",
    "\n",
    "### A.\tThe standard deviation of the scores within any sample will be 120.\n",
    "### B.\tThe standard deviation of the mean of across several samples will be 120.\n",
    "### C.\tThe mean score in any sample will be 720.\n",
    "### D.\tThe average of the mean across several samples will be 720.\n",
    "### E.\tThe standard deviation of the mean across several samples will be 0.60\n"
   ]
  },
  {
   "cell_type": "markdown",
   "id": "0e8be664",
   "metadata": {},
   "source": [
    "## Ans:\n",
    "#### SEM=sigma/sqrt(n)\n",
    "#### SEM=120/sqrt(40000) = 120/20 = 0.60\n",
    "#### Ans is E."
   ]
  },
  {
   "cell_type": "code",
   "execution_count": null,
   "id": "7a6c0fe0",
   "metadata": {},
   "outputs": [],
   "source": []
  }
 ],
 "metadata": {
  "kernelspec": {
   "display_name": "Python 3 (ipykernel)",
   "language": "python",
   "name": "python3"
  },
  "language_info": {
   "codemirror_mode": {
    "name": "ipython",
    "version": 3
   },
   "file_extension": ".py",
   "mimetype": "text/x-python",
   "name": "python",
   "nbconvert_exporter": "python",
   "pygments_lexer": "ipython3",
   "version": "3.9.13"
  }
 },
 "nbformat": 4,
 "nbformat_minor": 5
}
