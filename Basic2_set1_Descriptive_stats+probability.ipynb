{
 "cells": [
  {
   "cell_type": "code",
   "execution_count": 1,
   "id": "ddbd8359",
   "metadata": {},
   "outputs": [],
   "source": [
    "import pandas as pd \n",
    "import numpy as np\n",
    "import matplotlib.pyplot as plt\n",
    "import seaborn as sns\n",
    "from scipy import stats"
   ]
  },
  {
   "cell_type": "markdown",
   "id": "23bd3241",
   "metadata": {},
   "source": [
    "## Q.1)Look at the data given below. Plot the data, find the outliers and find out  μ,σ,σ^2"
   ]
  },
  {
   "cell_type": "code",
   "execution_count": 68,
   "id": "8a3fe80f",
   "metadata": {},
   "outputs": [],
   "source": [
    "df=pd.DataFrame({'Name of Company':['Allied Signal',\n",
    "                                    'Bankers Trust',\n",
    "                                    'General Mills',\n",
    "                                    'ITT Industries',\n",
    "                                    'J.P.Morgan & Co.',\n",
    "                                    'Lehman Brothers',\n",
    "                                    'Marriott',                                \n",
    "                                    'MCI',\n",
    "                                    'Merrill Lynch',\n",
    "                                    'Microsoft',\n",
    "                                    'Morgan Stanle',\n",
    "                                    'Sun Microsystems',\n",
    "                                    'Travelers',\n",
    "                                    'US Airways',\n",
    "                                    'Warner-Lambert'],\n",
    "                                    'Measure_X':[   '24.23',\n",
    "                                                    '25.53',\n",
    "                                                    '25.41',\n",
    "                                                    '24.14',\n",
    "                                                    '29.62',\n",
    "                                                    '28.25',\n",
    "                                                    '25.81',\n",
    "                                                    '24.39',\n",
    "                                                    '40.26',\n",
    "                                                    '32.95',\n",
    "                                                    '91.36',\n",
    "                                                    '25.99',\n",
    "                                                    '39.42',\n",
    "                                                    '26.71',\n",
    "                                                    '35.00']\n",
    "                                                                 })"
   ]
  },
  {
   "cell_type": "code",
   "execution_count": 69,
   "id": "5e307caa",
   "metadata": {},
   "outputs": [
    {
     "data": {
      "text/html": [
       "<div>\n",
       "<style scoped>\n",
       "    .dataframe tbody tr th:only-of-type {\n",
       "        vertical-align: middle;\n",
       "    }\n",
       "\n",
       "    .dataframe tbody tr th {\n",
       "        vertical-align: top;\n",
       "    }\n",
       "\n",
       "    .dataframe thead th {\n",
       "        text-align: right;\n",
       "    }\n",
       "</style>\n",
       "<table border=\"1\" class=\"dataframe\">\n",
       "  <thead>\n",
       "    <tr style=\"text-align: right;\">\n",
       "      <th></th>\n",
       "      <th>Name of Company</th>\n",
       "      <th>Measure_X</th>\n",
       "    </tr>\n",
       "  </thead>\n",
       "  <tbody>\n",
       "    <tr>\n",
       "      <th>0</th>\n",
       "      <td>Allied Signal</td>\n",
       "      <td>24.23</td>\n",
       "    </tr>\n",
       "    <tr>\n",
       "      <th>1</th>\n",
       "      <td>Bankers Trust</td>\n",
       "      <td>25.53</td>\n",
       "    </tr>\n",
       "    <tr>\n",
       "      <th>2</th>\n",
       "      <td>General Mills</td>\n",
       "      <td>25.41</td>\n",
       "    </tr>\n",
       "    <tr>\n",
       "      <th>3</th>\n",
       "      <td>ITT Industries</td>\n",
       "      <td>24.14</td>\n",
       "    </tr>\n",
       "    <tr>\n",
       "      <th>4</th>\n",
       "      <td>J.P.Morgan &amp; Co.</td>\n",
       "      <td>29.62</td>\n",
       "    </tr>\n",
       "    <tr>\n",
       "      <th>5</th>\n",
       "      <td>Lehman Brothers</td>\n",
       "      <td>28.25</td>\n",
       "    </tr>\n",
       "    <tr>\n",
       "      <th>6</th>\n",
       "      <td>Marriott</td>\n",
       "      <td>25.81</td>\n",
       "    </tr>\n",
       "    <tr>\n",
       "      <th>7</th>\n",
       "      <td>MCI</td>\n",
       "      <td>24.39</td>\n",
       "    </tr>\n",
       "    <tr>\n",
       "      <th>8</th>\n",
       "      <td>Merrill Lynch</td>\n",
       "      <td>40.26</td>\n",
       "    </tr>\n",
       "    <tr>\n",
       "      <th>9</th>\n",
       "      <td>Microsoft</td>\n",
       "      <td>32.95</td>\n",
       "    </tr>\n",
       "    <tr>\n",
       "      <th>10</th>\n",
       "      <td>Morgan Stanle</td>\n",
       "      <td>91.36</td>\n",
       "    </tr>\n",
       "    <tr>\n",
       "      <th>11</th>\n",
       "      <td>Sun Microsystems</td>\n",
       "      <td>25.99</td>\n",
       "    </tr>\n",
       "    <tr>\n",
       "      <th>12</th>\n",
       "      <td>Travelers</td>\n",
       "      <td>39.42</td>\n",
       "    </tr>\n",
       "    <tr>\n",
       "      <th>13</th>\n",
       "      <td>US Airways</td>\n",
       "      <td>26.71</td>\n",
       "    </tr>\n",
       "    <tr>\n",
       "      <th>14</th>\n",
       "      <td>Warner-Lambert</td>\n",
       "      <td>35.00</td>\n",
       "    </tr>\n",
       "  </tbody>\n",
       "</table>\n",
       "</div>"
      ],
      "text/plain": [
       "     Name of Company Measure_X\n",
       "0      Allied Signal     24.23\n",
       "1      Bankers Trust     25.53\n",
       "2      General Mills     25.41\n",
       "3     ITT Industries     24.14\n",
       "4   J.P.Morgan & Co.     29.62\n",
       "5    Lehman Brothers     28.25\n",
       "6           Marriott     25.81\n",
       "7                MCI     24.39\n",
       "8      Merrill Lynch     40.26\n",
       "9          Microsoft     32.95\n",
       "10     Morgan Stanle     91.36\n",
       "11  Sun Microsystems     25.99\n",
       "12         Travelers     39.42\n",
       "13        US Airways     26.71\n",
       "14    Warner-Lambert     35.00"
      ]
     },
     "execution_count": 69,
     "metadata": {},
     "output_type": "execute_result"
    }
   ],
   "source": [
    "df"
   ]
  },
  {
   "cell_type": "code",
   "execution_count": 36,
   "id": "f59ad131",
   "metadata": {},
   "outputs": [],
   "source": [
    "## plot of data"
   ]
  },
  {
   "cell_type": "code",
   "execution_count": 70,
   "id": "8cb2fad2",
   "metadata": {},
   "outputs": [
    {
     "data": {
      "image/png": "[encoded data removed]",
      "text/plain": [
       "<Figure size 640x480 with 1 Axes>"
      ]
     },
     "metadata": {},
     "output_type": "display_data"
    }
   ],
   "source": [
    "a=['24.23','25.53','25.41','24.14','29.62','28.25','25.81',\n",
    "   '24.39','40.26','32.95','91.36','25.99','39.42','26.71','35.00',]\n",
    "b=[                                 'Allied Signal',\n",
    "                                    'Bankers Trust',\n",
    "                                    'General Mills',\n",
    "                                    'ITT Industries',\n",
    "                                    'J.P.Morgan & Co.',\n",
    "                                    'Lehman Brothers',\n",
    "                                    'Marriott',                                \n",
    "                                    'MCI',\n",
    "                                    'Merrill Lynch',\n",
    "                                    'Microsoft',\n",
    "                                    'Morgan Stanle',\n",
    "                                    'Sun Microsystems',\n",
    "                                    'Travelers',\n",
    "                                    'US Airways',\n",
    "                                    'Warner-Lambert']   \n",
    "plt.pie(a,labels=b,autopct='%0.2f%%')\n",
    "plt.tight_layout()"
   ]
  },
  {
   "cell_type": "code",
   "execution_count": 71,
   "id": "dc48ae11",
   "metadata": {},
   "outputs": [
    {
     "name": "stdout",
     "output_type": "stream",
     "text": [
      "<class 'pandas.core.frame.DataFrame'>\n",
      "RangeIndex: 15 entries, 0 to 14\n",
      "Data columns (total 2 columns):\n",
      " #   Column           Non-Null Count  Dtype \n",
      "---  ------           --------------  ----- \n",
      " 0   Name of Company  15 non-null     object\n",
      " 1   Measure_X        15 non-null     object\n",
      "dtypes: object(2)\n",
      "memory usage: 368.0+ bytes\n"
     ]
    }
   ],
   "source": [
    "df.info()"
   ]
  },
  {
   "cell_type": "code",
   "execution_count": 75,
   "id": "6b48d2f9",
   "metadata": {},
   "outputs": [],
   "source": [
    "## Changing datatype\n",
    "df['Measure_X']=df['Measure_X'].astype('float')"
   ]
  },
  {
   "cell_type": "code",
   "execution_count": 78,
   "id": "65f1c4d8",
   "metadata": {},
   "outputs": [
    {
     "name": "stdout",
     "output_type": "stream",
     "text": [
      "<class 'pandas.core.frame.DataFrame'>\n",
      "RangeIndex: 15 entries, 0 to 14\n",
      "Data columns (total 2 columns):\n",
      " #   Column           Non-Null Count  Dtype  \n",
      "---  ------           --------------  -----  \n",
      " 0   Name of Company  15 non-null     object \n",
      " 1   Measure_X        15 non-null     float64\n",
      "dtypes: float64(1), object(1)\n",
      "memory usage: 368.0+ bytes\n"
     ]
    }
   ],
   "source": [
    "df.info()"
   ]
  },
  {
   "cell_type": "code",
   "execution_count": 77,
   "id": "f1c37693",
   "metadata": {},
   "outputs": [
    {
     "data": {
      "text/plain": [
       "33.27133333333333"
      ]
     },
     "execution_count": 77,
     "metadata": {},
     "output_type": "execute_result"
    }
   ],
   "source": [
    "## Mean\n",
    "\n",
    "df['Measure_X'].mean()"
   ]
  },
  {
   "cell_type": "code",
   "execution_count": 79,
   "id": "c1a201dc",
   "metadata": {},
   "outputs": [
    {
     "data": {
      "text/plain": [
       "287.1466123809524"
      ]
     },
     "execution_count": 79,
     "metadata": {},
     "output_type": "execute_result"
    }
   ],
   "source": [
    "## Variance\n",
    "df['Measure_X'].var()"
   ]
  },
  {
   "cell_type": "code",
   "execution_count": 80,
   "id": "63e245ec",
   "metadata": {},
   "outputs": [
    {
     "data": {
      "text/plain": [
       "16.945400921222028"
      ]
     },
     "execution_count": 80,
     "metadata": {},
     "output_type": "execute_result"
    }
   ],
   "source": [
    "## S.D\n",
    "\n",
    "df['Measure_X'].std()"
   ]
  },
  {
   "cell_type": "markdown",
   "id": "0a5be02c",
   "metadata": {},
   "source": [
    "### Q.2)  Answer the following three questions based on the box-plot above.\n",
    "### (i)\tWhat is inter-quartile range of this dataset? (please approximate the numbers) In one line, explain what this value implies.\n",
    "### (ii)\tWhat can we say about the skewness of this dataset?\n",
    "### (iii)\tIf it was found that the data point with the value 25 is actually 2.5, how would the new box-plot be affected?\n",
    "\n"
   ]
  },
  {
   "cell_type": "markdown",
   "id": "40a010da",
   "metadata": {},
   "source": [
    "#### 1)  IQR=Q3-Q!\n",
    "#### The inter quartile range gives us measurement of how spred out the entirely dataset is.\n",
    "#### 2) Data set is right skewed.\n",
    "#### 3) Mean value of data set would change\n",
    "####    also outliers data points would be change.\n"
   ]
  },
  {
   "cell_type": "markdown",
   "id": "bda745cd",
   "metadata": {},
   "source": [
    "\n",
    "## Q.3)  Answer the following three questions based on the histogram above.\n",
    "### (i)\tWhere would the mode of this dataset lie?\n",
    "### (ii)\tComment on the skewness of the dataset.\t\n",
    "### (iii)\tSuppose that the above histogram and the box-plot in question 2 are plotted for the same dataset. Explain how these graphs complement each other in providing information about any dataset. \n",
    "\n"
   ]
  },
  {
   "cell_type": "markdown",
   "id": "734c73fc",
   "metadata": {},
   "source": [
    "####  Ans: 1) Mode of the data set lie within 4-8\n",
    "####  2) It is right skewed or positive skewed.\n",
    "####  3) i) Both graphs are represent that most of the datapoints are lie within the range 4-12\n",
    "####     ii) Both graphs are right skewed.\n",
    "####     iii)Outlier data point is same for both grahs i.e 25"
   ]
  },
  {
   "cell_type": "markdown",
   "id": "362b52a2",
   "metadata": {},
   "source": [
    "### Q.4) AT&T was running commercials in 1990 aimed at luring back customers who had switched to one of the other \n",
    "### long-distance phone service providers. One such commercial shows a businessman trying to reach \n",
    "### Phoenix and mistakenly getting Fiji, where a half-naked native on a beach responds incomprehensibly in Polynesian.\n",
    "### When asked about this advertisement, AT&T admitted that the portrayed incident did not actually take place \n",
    "### but added that this was an enactment of something that “could happen.” Suppose that one in 200 long-distance telephone \n",
    "### calls is misdirected. What is the probability that at least one in five attempted telephone calls reaches the \n",
    "### wrong number? (Assume independence of attempts.)\n",
    "\n",
    "\n"
   ]
  },
  {
   "cell_type": "markdown",
   "id": "0a4fa53b",
   "metadata": {},
   "source": [
    "#### Ans: There is one wrong number out of 200.\n",
    "#### Probabilty of wrong number is 1/200\n",
    "####  p(wn)=0.005\n",
    "####  Probability of right calls (not wrong number) = 1-P(wn)\n",
    "####                                                = 1-0.005\n",
    "####                                                = 0.995\n",
    "####   Probability of all right calls = (0.995)^5 = 0.9752\n",
    "####  Probability of atleast one wrong number out of five=\n",
    "####      = P(1st call)+p(2nd call)+P(3rd call)+p(4th call)+p(5th call)\n",
    "####      = 1-p(all 5 right call)\n",
    "####      = 1-0.9752\n",
    "####      = 0.0248"
   ]
  },
  {
   "cell_type": "markdown",
   "id": "f19c2452",
   "metadata": {},
   "source": [
    "### Q5) \tReturns on a certain business venture, to the nearest \n",
    "### $1,000, are known to follow the \n",
    "### following probability distribution\n",
    "\n",
    "#### (i)\tWhat is the most likely monetary outcome of the business venture?\n",
    "#### (ii)\tIs the venture likely to be successful? Explain\n",
    "#### (iii)\tWhat is the long-term average earning of business ventures of this kind? Explain\n",
    "#### (iv)\tWhat is the good measure of the risk involved in a venture of this kind? Compute this measure\n",
    "\n"
   ]
  },
  {
   "cell_type": "code",
   "execution_count": null,
   "id": "2b03f085",
   "metadata": {},
   "outputs": [],
   "source": [
    "#### i) The highest probability is 0.3 & value is 2000 & most monetary likely outcome is 2000\n",
    "#### ii) The probability od negative values is 0.1+0.1+0.2 = 0.4 i.e 40%\n",
    "####     & the probability of positive values is 0.2+0.3+0.1 = 0.6 i.e 60%\n",
    "#### Thus business venture will be successful\n",
    "#### iii) p(x)*x=(-2000*0.1)+(-1000*0.1)+(0*0.2)+(1000*0.2)+(2000*0.3)+(3000*0.1)=-100+900=800.\n",
    "\n",
    "\n"
   ]
  },
  {
   "cell_type": "code",
   "execution_count": 12,
   "id": "89d68d94",
   "metadata": {},
   "outputs": [],
   "source": [
    "## Q.5 (iv)  \n",
    "\n",
    "q5=pd.DataFrame({'x':[-2000,-1000,0,1000,2000,3000],\n",
    "                  'P(x)':[0.1,0.1,0.2,0.2,0.3,0.1]})"
   ]
  },
  {
   "cell_type": "code",
   "execution_count": 10,
   "id": "233d1d44",
   "metadata": {},
   "outputs": [
    {
     "data": {
      "text/html": [
       "<div>\n",
       "<style scoped>\n",
       "    .dataframe tbody tr th:only-of-type {\n",
       "        vertical-align: middle;\n",
       "    }\n",
       "\n",
       "    .dataframe tbody tr th {\n",
       "        vertical-align: top;\n",
       "    }\n",
       "\n",
       "    .dataframe thead th {\n",
       "        text-align: right;\n",
       "    }\n",
       "</style>\n",
       "<table border=\"1\" class=\"dataframe\">\n",
       "  <thead>\n",
       "    <tr style=\"text-align: right;\">\n",
       "      <th></th>\n",
       "      <th>x</th>\n",
       "      <th>P(x)</th>\n",
       "    </tr>\n",
       "  </thead>\n",
       "  <tbody>\n",
       "    <tr>\n",
       "      <th>0</th>\n",
       "      <td>-2000</td>\n",
       "      <td>0.1</td>\n",
       "    </tr>\n",
       "    <tr>\n",
       "      <th>1</th>\n",
       "      <td>-1000</td>\n",
       "      <td>0.1</td>\n",
       "    </tr>\n",
       "    <tr>\n",
       "      <th>2</th>\n",
       "      <td>0</td>\n",
       "      <td>0.2</td>\n",
       "    </tr>\n",
       "    <tr>\n",
       "      <th>3</th>\n",
       "      <td>1000</td>\n",
       "      <td>0.2</td>\n",
       "    </tr>\n",
       "    <tr>\n",
       "      <th>4</th>\n",
       "      <td>2000</td>\n",
       "      <td>0.3</td>\n",
       "    </tr>\n",
       "    <tr>\n",
       "      <th>5</th>\n",
       "      <td>3000</td>\n",
       "      <td>0.1</td>\n",
       "    </tr>\n",
       "  </tbody>\n",
       "</table>\n",
       "</div>"
      ],
      "text/plain": [
       "      x  P(x)\n",
       "0 -2000   0.1\n",
       "1 -1000   0.1\n",
       "2     0   0.2\n",
       "3  1000   0.2\n",
       "4  2000   0.3\n",
       "5  3000   0.1"
      ]
     },
     "execution_count": 10,
     "metadata": {},
     "output_type": "execute_result"
    }
   ],
   "source": [
    "q5"
   ]
  },
  {
   "cell_type": "code",
   "execution_count": 11,
   "id": "ce890dee",
   "metadata": {},
   "outputs": [
    {
     "data": {
      "text/plain": [
       "1870.8286933869706"
      ]
     },
     "execution_count": 11,
     "metadata": {},
     "output_type": "execute_result"
    }
   ],
   "source": [
    "q5['x'].std()"
   ]
  },
  {
   "cell_type": "markdown",
   "id": "9049b96c",
   "metadata": {},
   "source": [
    "####   Risk involed in venture is S.D &\n",
    "#### S.D = 1870.8286933869706"
   ]
  },
  {
   "cell_type": "code",
   "execution_count": null,
   "id": "2143aa94",
   "metadata": {},
   "outputs": [],
   "source": []
  }
 ],
 "metadata": {
  "kernelspec": {
   "display_name": "Python 3 (ipykernel)",
   "language": "python",
   "name": "python3"
  },
  "language_info": {
   "codemirror_mode": {
    "name": "ipython",
    "version": 3
   },
   "file_extension": ".py",
   "mimetype": "text/x-python",
   "name": "python",
   "nbconvert_exporter": "python",
   "pygments_lexer": "ipython3",
   "version": "3.9.13"
  }
 },
 "nbformat": 4,
 "nbformat_minor": 5
}
