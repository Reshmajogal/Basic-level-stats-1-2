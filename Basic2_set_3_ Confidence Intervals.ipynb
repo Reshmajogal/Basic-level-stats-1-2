{
 "cells": [
  {
   "cell_type": "code",
   "execution_count": 1,
   "id": "098007c0",
   "metadata": {},
   "outputs": [],
   "source": [
    "import pandas as pd \n",
    "import numpy as np\n",
    "import matplotlib.pyplot as plt\n",
    "import seaborn as sns\n",
    "from scipy import stats"
   ]
  },
  {
   "cell_type": "markdown",
   "id": "923ee523",
   "metadata": {},
   "source": [
    "## Q.1) 1.\tFor each of the following statements, indicate whether it is True/False. If false, explain why.\n",
    "\n",
    "### I.\tThe sample size of the survey should at least be a fixed percentage of the population size in order to \n",
    "###  produce representative results.\n",
    "\n",
    "### II.\tThe sampling frame is a list of every item that appears in a survey sample,\n",
    "### including those that did not respond to questions.\n",
    "\n",
    "### III.\tLarger surveys convey a more accurate impression of the population than smaller surveys.\n",
    "\n"
   ]
  },
  {
   "cell_type": "markdown",
   "id": "368969fb",
   "metadata": {},
   "source": [
    "## Ans:\n",
    "#### i) True\n",
    "#### ii) False: The sampling frame refers to a list of itern which responds to the question \n",
    "####   & not one which do respond the  questions.\n",
    "#### iii) True"
   ]
  },
  {
   "cell_type": "markdown",
   "id": "b512d2cb",
   "metadata": {},
   "source": [
    "## Q.2) PC Magazine asked all of its readers to participate in a survey of their satisfaction with different brands \n",
    "## of electronics. In the 2004 survey, which was included in an issue of the magazine that year, \n",
    "## more than 9000 readers rated the products on a scale from 1 to 10. The magazine reported that \n",
    "## the average rating assigned by 225 readers to a Kodak compact digital camera was 7.5. For this product, i\n",
    "## dentify the following:\n",
    "\n",
    "### A.\tThe population\n",
    "### B.\tThe parameter of interest\n",
    "### C.\tThe sampling frame\n",
    "### D.\tThe sample size\n",
    "### E.\tThe sampling design\n",
    "### F.\tAny potential sources of bias or other problems with the survey or sample\n",
    "\n"
   ]
  },
  {
   "cell_type": "code",
   "execution_count": null,
   "id": "fa21c189",
   "metadata": {
    "collapsed": true
   },
   "outputs": [],
   "source": []
  },
  {
   "cell_type": "markdown",
   "id": "33cde17a",
   "metadata": {},
   "source": [
    "## Ans:\n",
    "##### A. The population:9000\n",
    "##### B. The parameter of interest: The of camera.\n",
    "##### C. The sampling frame:225\n",
    "##### D. The sample size:225\n",
    "##### E. The sampling design:Volentary response\n",
    "##### F. Any potential sources of bias or other problems with the survey or sample: Response is volentary.\n",
    "#####    It is possible that person who are pleased or displeased to product are only participated in survey."
   ]
  },
  {
   "cell_type": "markdown",
   "id": "195a1f10",
   "metadata": {},
   "source": [
    "## Q.3) For each of the following statements, indicate whether it is True/False. If false, explain why.\n",
    "\n",
    "### I.\tIf the 95% confidence interval for the average purchase of customers at a department store \n",
    "### is 50 to 110, then 100 is a plausible value for the population mean at this level of confidence.\n",
    "\n",
    "## II.\tIf the 95% confidence interval for the number of moviegoers who purchase concessions is 30% to 45%,\n",
    "## this means that fewer than half of all moviegoers purchase concessions.\n",
    "\n",
    "## III.\tThe 95% Confidence-Interval for μ only applies if the sample data are nearly normally distributed.\n"
   ]
  },
  {
   "cell_type": "markdown",
   "id": "6957feef",
   "metadata": {},
   "source": [
    "## Ans: i)True\n",
    "#### ii) False : We are certain with 95% confidence limit for the minimum of moviegore who do not purchase from concession\n",
    "####  is 100-45=55%. Hence proporsion of moviegores who do not purshase from concession is more than 50%.\n",
    "#### iii) False: With large enough sample central limit theorem implies the normal sampling distribution is \n",
    "####   regardless of distribution of data."
   ]
  },
  {
   "attachments": {},
   "cell_type": "markdown",
   "id": "484e434b",
   "metadata": {},
   "source": [
    "## Q.4) What are the chances that \n",
    "### A   ¼ \n",
    "### B.\t½ \n",
    "### C.\t¾ \n",
    "### D.\t1\n",
    "\n"
   ]
  },
  {
   "cell_type": "markdown",
   "id": "caaa1183",
   "metadata": {},
   "source": [
    "## Ans: \n",
    "### There is 50% chance that X>mu\n",
    "### Answer is B"
   ]
  },
  {
   "cell_type": "markdown",
   "id": "5bc67f2d",
   "metadata": {},
   "source": [
    "## Q.5) 5.\tIn January 2005, a company that monitors Internet traffic (WebSideStory) reported that its sampling revealed \n",
    "## that the Mozilla Firefox browser launched in 2004 had grabbed a 4.6% share of the market.\n",
    "\n",
    "### I.If the sample were based on 2,000 users, could Microsoft conclude that  \n",
    "### Mozilla has a less than 5% share of the market?\n",
    "\n",
    "### II.\tWebSideStory claims that its sample includes all the daily Internet users.\n",
    "### If that’s the case, then can Microsoft conclude that Mozilla has a less than 5% share of the market?\n",
    "\n"
   ]
  },
  {
   "cell_type": "markdown",
   "id": "f2ba079b",
   "metadata": {},
   "source": [
    "## Ans:\n",
    "###  i)\n",
    "####  null hypothesis: mozolia >5\n",
    "####  alternate hypothesis : mozolia < 5\n",
    "####  Z stats is : Z=P^ -P/(sqrt(P(1-P)/n)) ~ N(0,1)\n",
    "####                =(0.046-0.05)/sqtr(0.05(1-0.05)/2000)\n",
    "####                =0.821\n",
    "#### At 5% level of significant the Z-table gives critical value is -1.96 \n",
    "####  Z > critical value\n",
    "####  Fail to reject null hypothesis , Mozolia has > 5% shares in market.\n",
    "## ii) \n",
    "#### Here all daily users are included means 4.6% share of market represent the whole population."
   ]
  },
  {
   "cell_type": "markdown",
   "id": "e45c76be",
   "metadata": {},
   "source": [
    "## Q.6) A book publisher monitors the size of shipments of its textbooks to university bookstores. \n",
    "## For a sample of texts used at various schools, the 95% confidence interval for the size of the shipment \n",
    "## was 250 ± 45 books. Which, if any, of the following interpretations of this interval are correct?\n",
    "\n",
    "### A.\tAll shipments are between 205 and 295 books.\n",
    "\n",
    "### B.\t95% of shipments are between 205 and 295 books.\n",
    "\n",
    "### C.\tThe procedure that produced this interval generates ranges that hold the population mean for 95% of samples.\n",
    "\n",
    "### D.\tIf we get another sample, then we can be 95% sure that the mean of this second sample is between 205 and 295.\n",
    "\n",
    "### E.\tWe can be 95% confident that the range 160 to 340 holds the population mean.\n",
    "\n"
   ]
  },
  {
   "cell_type": "markdown",
   "id": "b65270a5",
   "metadata": {},
   "source": [
    "## Ans:\n",
    "#### A) Incorrect: The interval of (205,295) is for 95% confidece not for 100%\n",
    "#### B) Incorrect: The interval does not describe individual shipment\n",
    "#### C) Correct\n",
    "#### D) Incorrect: Interval does't describe the mean of another sample\n",
    "#### E) Incorrect: Interval does't correspond to 95% confidece level"
   ]
  },
  {
   "cell_type": "markdown",
   "id": "c4a60f4f",
   "metadata": {},
   "source": [
    "## Q.7) Which is shorter: a 95% z-interval or a 95% t-interval for μ if we know that σ =s?\n",
    "\n",
    "### A.\tThe z-interval is shorter\n",
    "### B.\tThe t-interval is shorter\n",
    "### C.\tBoth are equal\n",
    "### D.\tWe cannot say\n",
    "\n",
    "\n"
   ]
  },
  {
   "cell_type": "markdown",
   "id": "19fcf2d0",
   "metadata": {},
   "source": [
    "## Ans:\n",
    "#### A) Z-interval is shorter"
   ]
  },
  {
   "cell_type": "markdown",
   "id": "aa272594",
   "metadata": {},
   "source": [
    "## Q.8) How many randomly selected employers (minimum number) must we contact in order to guarantee a margin of error \n",
    "## of no more than 4% (at 95% confidence)?\n",
    "\n",
    "### A.\t600\n",
    "### B.\t400\n",
    "### C.\t550\n",
    "### D.\t1000\n",
    "\n",
    "\n"
   ]
  },
  {
   "cell_type": "markdown",
   "id": "0342337a",
   "metadata": {},
   "source": [
    "## Ans:\n",
    "#### n=number of employees,p=0.5,q=0.5,margin error=0.4\n",
    "#### For 95% confidece interval ,the critical value=1.96\n",
    "#### ME=Z*sqrt(p*q/n)\n",
    "#### n=(1.96)^2(0.05)(0.05)/0.042\n",
    "#### n=600\n",
    "### Answer is A"
   ]
  },
  {
   "cell_type": "markdown",
   "id": "6af45cb4",
   "metadata": {},
   "source": [
    "## Q.9) Suppose we want the above margin of error to be based on a 98% confidence level. What sample size (minimum) must we now use?\n",
    "\n",
    "### A.\t1000\n",
    "### B.\t757\n",
    "### C.\t848\n",
    "### D.\t543\n",
    "\n"
   ]
  },
  {
   "cell_type": "markdown",
   "id": "31c742d5",
   "metadata": {},
   "source": [
    "## Ans:\n",
    "#### 98% for confidence z=2.57\n",
    "#### ME=Zsqrt(pq/n) \n",
    "#### n=(2.576)^2(0.05)(0.05)/0.042\n",
    "#### n=845.35\n",
    "#### Answer is C"
   ]
  },
  {
   "cell_type": "code",
   "execution_count": null,
   "id": "716233b9",
   "metadata": {},
   "outputs": [],
   "source": []
  }
 ],
 "metadata": {
  "kernelspec": {
   "display_name": "Python 3 (ipykernel)",
   "language": "python",
   "name": "python3"
  },
  "language_info": {
   "codemirror_mode": {
    "name": "ipython",
    "version": 3
   },
   "file_extension": ".py",
   "mimetype": "text/x-python",
   "name": "python",
   "nbconvert_exporter": "python",
   "pygments_lexer": "ipython3",
   "version": "3.9.13"
  }
 },
 "nbformat": 4,
 "nbformat_minor": 5
}
