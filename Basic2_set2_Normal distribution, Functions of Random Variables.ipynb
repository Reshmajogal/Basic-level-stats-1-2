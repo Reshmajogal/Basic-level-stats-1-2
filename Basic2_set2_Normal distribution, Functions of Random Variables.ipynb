{
 "cells": [
  {
   "cell_type": "code",
   "execution_count": 1,
   "id": "bf416122",
   "metadata": {},
   "outputs": [],
   "source": [
    "import pandas as pd \n",
    "import numpy as np\n",
    "import matplotlib.pyplot as plt\n",
    "import seaborn as sns\n",
    "from scipy import stats"
   ]
  },
  {
   "cell_type": "markdown",
   "id": "290127f9",
   "metadata": {},
   "source": [
    "## Q 1) 1.\tThe time required for servicing transmissions is normally distributed with  = 45 minutes\n",
    "## and = 8 minutes. The service manager plans to have work begin on the transmission of a customer’s car \n",
    "## 10 minutes after the car is dropped off and the customer is told that the car will be ready within 1 hour from drop-off.\n",
    "## What is the probability that the service manager cannot meet his commitment? \n",
    "\n",
    "### A.\t0.3875   \n",
    "### B.\t0.2676   \n",
    "### C.\t0.5   \n",
    "### D.\t0.6987 \n"
   ]
  },
  {
   "cell_type": "markdown",
   "id": "34278b34",
   "metadata": {},
   "source": [
    "## Ans:\n",
    "### The work begin at 10 min. after the car droped off.The maneger committed to customers that\n",
    "### work will be completed within 1 hr.\n",
    "### So the time left to do the work is 50 min.\n",
    "### The probability that maneger can not meet his commitement = P(X>50)"
   ]
  },
  {
   "cell_type": "code",
   "execution_count": 2,
   "id": "4fd54215",
   "metadata": {},
   "outputs": [
    {
     "data": {
      "text/plain": [
       "0.7340144709512995"
      ]
     },
     "execution_count": 2,
     "metadata": {},
     "output_type": "execute_result"
    }
   ],
   "source": [
    "## P value\n",
    "## X=50,mu=45,sigma=8\n",
    "stats.norm.cdf(50,45,8)"
   ]
  },
  {
   "cell_type": "markdown",
   "id": "b7f88854",
   "metadata": {},
   "source": [
    "### P(X<50)=0.7340\n",
    "### P(X>50)=1-P(X<50)\n",
    "###        = 1-0.7340\n",
    "###        = 0.2676\n",
    "## So the answer is B"
   ]
  },
  {
   "cell_type": "markdown",
   "id": "1bf470c0",
   "metadata": {},
   "source": [
    "## Q2) 2.\tThe current age (in years) of 400 clerical employees at an insurance claims processing center is \n",
    "## normally distributed with mean  = 38 and Standard deviation  =6. For each statement below, \n",
    "## please specify True/False. If false, briefly explain why.\n",
    "### A.\tMore employees at the processing center are older than 44 than between 38 and 44.\n",
    "### B.\tA training program for employees under the age of 30 at the center would be expected to attract about 36 employees.\n",
    "\n"
   ]
  },
  {
   "cell_type": "markdown",
   "id": "119fca42",
   "metadata": {},
   "source": [
    "## Ans:\n",
    "### i) Probability of employee older than 44 P(X>44)\n",
    "### &  Probability of employee betweeen 38 &  44  is P(38<X<44)\n"
   ]
  },
  {
   "cell_type": "code",
   "execution_count": 3,
   "id": "1b739a7c",
   "metadata": {},
   "outputs": [],
   "source": [
    "## P(X<44)\n",
    "p_value=stats.norm.cdf(44,38,6)"
   ]
  },
  {
   "cell_type": "code",
   "execution_count": 4,
   "id": "cd8ede50",
   "metadata": {},
   "outputs": [
    {
     "data": {
      "text/plain": [
       "0.8413447460685429"
      ]
     },
     "execution_count": 4,
     "metadata": {},
     "output_type": "execute_result"
    }
   ],
   "source": [
    "p_value"
   ]
  },
  {
   "cell_type": "code",
   "execution_count": 5,
   "id": "b1113bb2",
   "metadata": {},
   "outputs": [
    {
     "data": {
      "text/plain": [
       "0.3413447460685429"
      ]
     },
     "execution_count": 5,
     "metadata": {},
     "output_type": "execute_result"
    }
   ],
   "source": [
    "## P(38<X<44)\n",
    "stats.norm.cdf(44,38,6)-stats.norm.cdf(38,38,6)"
   ]
  },
  {
   "cell_type": "markdown",
   "id": "b221c38f",
   "metadata": {},
   "source": [
    "#### P(X<44) >  P(38<X<44)\n",
    "#### Hence the statment is true."
   ]
  },
  {
   "cell_type": "code",
   "execution_count": 6,
   "id": "8ce4acee",
   "metadata": {},
   "outputs": [
    {
     "data": {
      "text/plain": [
       "0.09121121972586788"
      ]
     },
     "execution_count": 6,
     "metadata": {},
     "output_type": "execute_result"
    }
   ],
   "source": [
    "### ii) P(X<30)\n",
    "stats.norm.cdf(30,38,6)"
   ]
  },
  {
   "cell_type": "markdown",
   "id": "dae5de50",
   "metadata": {},
   "source": [
    "#### Number of employee with probability 0.091211 = 400*0.091211 = 36.484\n",
    "#### Hence The Statment is True."
   ]
  },
  {
   "cell_type": "markdown",
   "id": "cd483573",
   "metadata": {},
   "source": [
    "## Q.3) 3.\tIf X1 ~ N(μ, σ2) and X2 ~ N(μ, σ2) are iid normal random variables, \n",
    "## then what is the difference between 2 X1 and X1 + X2? Discuss both their distributions and parameters.       \n",
    "\n"
   ]
  },
  {
   "cell_type": "markdown",
   "id": "0efd7eee",
   "metadata": {},
   "source": [
    "## Ans:\n",
    "#### We know that X ~ N(μ, σ2) and Y~ N(μ, σ2) are iid normal random variables,\n",
    "#### then X+Y ~ N(μ1+μ2, (σ1)2+ (σ2)2) \n",
    "#### Also Z=aX+bY , X & Y are defined as above then Z~N(aμ1+bμ2, a2(σ1)2+b2(σ2)2)\n",
    "\n",
    "\n",
    "#### Using above, we can find that 2X1~N(2μ,2σ2) & X1+X2~N(μ+μ,σ2+σ2)\n",
    "####                                               X1+X2~N(2μ,2σ2)\n",
    "#### 2X1-(X1+X2)~N(4μ,4σ2)"
   ]
  },
  {
   "cell_type": "markdown",
   "id": "837d4673",
   "metadata": {},
   "source": [
    "## Q.4) Let X ~ N(100, 202). Find two values, a and b, symmetric about the mean, \n",
    "## such that the probability of the random variable taking a value between them is 0.99. \n",
    "\n",
    "### A.\t90.5, 105.9 \n",
    "### B.\t80.2, 119.8 \n",
    "### C.\t22, 78 \n",
    "### D.\t48.5, 151.5 \n",
    "### E.\t90.1, 109.9\n",
    "\n"
   ]
  },
  {
   "cell_type": "code",
   "execution_count": 9,
   "id": "e90873d9",
   "metadata": {},
   "outputs": [
    {
     "data": {
      "text/plain": [
       "(48.48341392902199, 151.516586070978)"
      ]
     },
     "execution_count": 9,
     "metadata": {},
     "output_type": "execute_result"
    }
   ],
   "source": [
    "## Ans:\n",
    "stats.norm.interval(0.99,100,20)"
   ]
  },
  {
   "cell_type": "markdown",
   "id": "2f5acc58",
   "metadata": {},
   "source": [
    "### Answer is D"
   ]
  },
  {
   "cell_type": "markdown",
   "id": "436bf10a",
   "metadata": {},
   "source": [
    "## Q.5) 5.\tConsider a company that has two different divisions.\n",
    "## The annual profits from the two divisions are independent and have distributions \n",
    "## Profit1 ~ N(5, 32) \n",
    "## and Profit2 ~ N(7, 42) respectively. Both the profits are in  Million.\n",
    "## Answer the following questions about the total profit of the company in Rupees. Assume that 1 = Rs. 45\n",
    "### A.\tSpecify a Rupee range (centered on the mean) such that it contains 95% probability for the annual profit \n",
    "### of the company.\n",
    "### B.\tSpecify the 5th percentile of profit (in Rupees) for the company\n",
    "### C.\tWhich of the two divisions has a larger probability of making a loss in a given year?\n"
   ]
  },
  {
   "cell_type": "markdown",
   "id": "f4a81d9b",
   "metadata": {},
   "source": [
    "## Ans:\n",
    "### i)\n",
    "#### mean=5+7=12\n",
    "#### mean profit in rupees = 12*45 = 540 million\n",
    "#### S.D = sqrt(9+16)=sqrt(25)=5\n",
    "#### In RS, S.D = 5*45= 225 million"
   ]
  },
  {
   "cell_type": "code",
   "execution_count": 11,
   "id": "8bec487e",
   "metadata": {},
   "outputs": [
    {
     "data": {
      "text/plain": [
       "(99.00810347848784, 980.9918965215122)"
      ]
     },
     "execution_count": 11,
     "metadata": {},
     "output_type": "execute_result"
    }
   ],
   "source": [
    "stats.norm.interval(0.95,540,225)"
   ]
  },
  {
   "cell_type": "markdown",
   "id": "fcb0e08f",
   "metadata": {},
   "source": [
    "#### Rupee range  for the annual profit is (99.00810347848784, 980.9918965215122)"
   ]
  },
  {
   "cell_type": "markdown",
   "id": "63ce9cda",
   "metadata": {},
   "source": [
    "### ii)"
   ]
  },
  {
   "cell_type": "code",
   "execution_count": 13,
   "id": "c01a289c",
   "metadata": {},
   "outputs": [
    {
     "data": {
      "text/plain": [
       "169.875"
      ]
     },
     "execution_count": 13,
     "metadata": {},
     "output_type": "execute_result"
    }
   ],
   "source": [
    "#### X=(μ+zσ) \n",
    "540+(-1.645)*(225)"
   ]
  },
  {
   "cell_type": "code",
   "execution_count": 14,
   "id": "1a8df047",
   "metadata": {},
   "outputs": [],
   "source": [
    "## iii) Probability of division making a loss is P(x<0):"
   ]
  },
  {
   "cell_type": "code",
   "execution_count": 15,
   "id": "8ed7ebec",
   "metadata": {},
   "outputs": [
    {
     "data": {
      "text/plain": [
       "0.0477903522728147"
      ]
     },
     "execution_count": 15,
     "metadata": {},
     "output_type": "execute_result"
    }
   ],
   "source": [
    "stats.norm.cdf(0,5,3)"
   ]
  },
  {
   "cell_type": "code",
   "execution_count": 16,
   "id": "6b6f30dc",
   "metadata": {},
   "outputs": [
    {
     "data": {
      "text/plain": [
       "0.040059156863817086"
      ]
     },
     "execution_count": 16,
     "metadata": {},
     "output_type": "execute_result"
    }
   ],
   "source": [
    "stats.norm.cdf(0,7,4)"
   ]
  },
  {
   "cell_type": "code",
   "execution_count": null,
   "id": "2a3560d6",
   "metadata": {},
   "outputs": [],
   "source": [
    "\n"
   ]
  }
 ],
 "metadata": {
  "kernelspec": {
   "display_name": "Python 3 (ipykernel)",
   "language": "python",
   "name": "python3"
  },
  "language_info": {
   "codemirror_mode": {
    "name": "ipython",
    "version": 3
   },
   "file_extension": ".py",
   "mimetype": "text/x-python",
   "name": "python",
   "nbconvert_exporter": "python",
   "pygments_lexer": "ipython3",
   "version": "3.9.13"
  }
 },
 "nbformat": 4,
 "nbformat_minor": 5
}
